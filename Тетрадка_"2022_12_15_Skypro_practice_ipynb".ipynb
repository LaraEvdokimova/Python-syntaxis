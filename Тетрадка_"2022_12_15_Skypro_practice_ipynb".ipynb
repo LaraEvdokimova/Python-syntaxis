{
  "nbformat": 4,
  "nbformat_minor": 0,
  "metadata": {
    "colab": {
      "provenance": [],
      "collapsed_sections": [
        "3yypHC-c5gn-",
        "iOkY10Rz6rSZ",
        "BsxXDCqi7mlE",
        "tl0vM7uG8Unx",
        "fpz57mml-JHc",
        "5Q1sfMYd-qaW",
        "Qm8GyyIU-9VK",
        "7mmvdC2QBxjz"
      ],
      "include_colab_link": true
    },
    "kernelspec": {
      "name": "python3",
      "display_name": "Python 3"
    },
    "language_info": {
      "name": "python"
    }
  },
  "cells": [
    {
      "cell_type": "markdown",
      "metadata": {
        "id": "view-in-github",
        "colab_type": "text"
      },
      "source": [
        "<a href=\"https://colab.research.google.com/github/LaraEvdokimova/Python-syntaxis/blob/main/%D0%A2%D0%B5%D1%82%D1%80%D0%B0%D0%B4%D0%BA%D0%B0_%222022_12_15_Skypro_practice_ipynb%22.ipynb\" target=\"_parent\"><img src=\"https://colab.research.google.com/assets/colab-badge.svg\" alt=\"Open In Colab\"/></a>"
      ]
    },
    {
      "cell_type": "markdown",
      "source": [
        "# Шаг 1 - Print"
      ],
      "metadata": {
        "id": "3yypHC-c5gn-"
      }
    },
    {
      "cell_type": "markdown",
      "source": [
        "Именно с print многие начинают свое знакомство с Python, выводя на экран заветную фразу Hello, World!\n",
        "\n",
        "Print - это функция, с помощью которой можно вывести информацию на экран.\n",
        "\n",
        "Синтаксис:"
      ],
      "metadata": {
        "id": "pcbRf4qM7A55"
      }
    },
    {
      "cell_type": "markdown",
      "source": [],
      "metadata": {
        "id": "FG42iUcM_tAh"
      }
    },
    {
      "cell_type": "code",
      "source": [
        "print('Hello world')"
      ],
      "metadata": {
        "id": "EqWRy2OS6IrJ",
        "colab": {
          "base_uri": "https://localhost:8080/"
        },
        "outputId": "d1f2ad4e-dcbe-43be-f8f8-77da8030a908"
      },
      "execution_count": null,
      "outputs": [
        {
          "output_type": "stream",
          "name": "stdout",
          "text": [
            "Hello world\n"
          ]
        }
      ]
    },
    {
      "cell_type": "markdown",
      "source": [
        "****Задание****\n",
        "\n",
        "Выведите \"Это моя первая программа”"
      ],
      "metadata": {
        "id": "YVp6QnJe6PUd"
      }
    },
    {
      "cell_type": "code",
      "source": [
        "# Исходный код\n",
        "print(\"Это моя первая программа\")"
      ],
      "metadata": {
        "id": "bQE4jjxi6O53",
        "colab": {
          "base_uri": "https://localhost:8080/"
        },
        "outputId": "86930a88-6ede-4b1c-a598-e8a6f396b1f3"
      },
      "execution_count": null,
      "outputs": [
        {
          "output_type": "stream",
          "name": "stdout",
          "text": [
            "Это моя первая программа\n"
          ]
        }
      ]
    },
    {
      "cell_type": "markdown",
      "source": [
        "# Шаг 2 - Print"
      ],
      "metadata": {
        "id": "iOkY10Rz6rSZ"
      }
    },
    {
      "cell_type": "markdown",
      "source": [
        "Если необходимо вывести на экран несколько строк - используйте print для каждой из них."
      ],
      "metadata": {
        "id": "lflBGoFR7N-2"
      }
    },
    {
      "cell_type": "markdown",
      "source": [
        "****Задание****\n",
        "\n",
        "Выведите:\n",
        "\n",
        "\"Это моя первая программа\"\n",
        "\n",
        "\"Я люблю котов\"\n",
        "\n",
        "\"Не знаю, что еще сказать\""
      ],
      "metadata": {
        "id": "2NVvHtsC6rSc"
      }
    },
    {
      "cell_type": "code",
      "source": [
        "# Исходный код\n",
        "print(\"Это моя первая программа\")\n",
        "print(\"Я люблю котов\")\n",
        "print(\"Не знаю, что еще сказать\")"
      ],
      "metadata": {
        "id": "cMb_2EEz6rSc",
        "colab": {
          "base_uri": "https://localhost:8080/"
        },
        "outputId": "8db71da8-9ba8-4018-8534-c273dbffea75"
      },
      "execution_count": null,
      "outputs": [
        {
          "output_type": "stream",
          "name": "stdout",
          "text": [
            "Это моя первая программа\n",
            "Я люблю котов\n",
            "Не знаю, что еще сказать\n"
          ]
        }
      ]
    },
    {
      "cell_type": "markdown",
      "source": [
        "# Шаг 3 - Переменная"
      ],
      "metadata": {
        "id": "BsxXDCqi7mlE"
      }
    },
    {
      "cell_type": "markdown",
      "source": [
        "Переменная — это коробка, в которой лежат данные. У переменной есть:\n",
        "\n",
        "- имя\n",
        "- значение\n",
        "- тип\n",
        "\n",
        "Например:"
      ],
      "metadata": {
        "id": "tYnygnXv7vs_"
      }
    },
    {
      "cell_type": "code",
      "source": [
        "name = \"Skypro\""
      ],
      "metadata": {
        "id": "4dCGirhF736E"
      },
      "execution_count": null,
      "outputs": []
    },
    {
      "cell_type": "markdown",
      "source": [
        "где name - это имя переменной, Skypro - это значение переменной, о типах переменных мы поговорим чуть позже.\n",
        "\n",
        "Обратите внимание, что текстовые значения переменных записываются в кавычках.\n",
        "\n",
        "Еще примеры:"
      ],
      "metadata": {
        "id": "JXlQFJVQ77EJ"
      }
    },
    {
      "cell_type": "code",
      "source": [
        "profession = \"Python-разработчик\"\n",
        "language = \"Python\"\n",
        "duration = \"10 months\""
      ],
      "metadata": {
        "id": "s7E-mwIy79Im"
      },
      "execution_count": null,
      "outputs": []
    },
    {
      "cell_type": "markdown",
      "source": [
        "Теперь с помощью функции print мы можем выводить на экран значения переменных:"
      ],
      "metadata": {
        "id": "YQMzYspJ7_lb"
      }
    },
    {
      "cell_type": "code",
      "source": [
        "profession = \"Python-разработчик\"\n",
        "language = \"Python\"\n",
        "duration = \"10 months\"\n",
        "\n",
        "print(profession) #выведет на экран Python-разработчик\n",
        "print(language) #выведет на экран Python\n",
        "print(duration) #выведет на экран 10 months"
      ],
      "metadata": {
        "id": "mCuHHyoe8CfV",
        "colab": {
          "base_uri": "https://localhost:8080/"
        },
        "outputId": "b96f3c50-2b2f-4255-87af-e7cccc136723"
      },
      "execution_count": null,
      "outputs": [
        {
          "output_type": "stream",
          "name": "stdout",
          "text": [
            "Python-разработчик\n",
            "Python\n",
            "10 months\n"
          ]
        }
      ]
    },
    {
      "cell_type": "markdown",
      "source": [
        "****Задание****\n",
        "\n",
        "Создайте переменную line, задайте ей значение \"Я изучаю питон\" и выведите это значение на экран."
      ],
      "metadata": {
        "id": "h27Y_Nal8Nyg"
      }
    },
    {
      "cell_type": "code",
      "source": [
        "# Исходный код\n",
        "line = \"Я изучаю питон\"\n",
        "print(line)"
      ],
      "metadata": {
        "id": "QD2JDlGM8PDW",
        "colab": {
          "base_uri": "https://localhost:8080/"
        },
        "outputId": "a56c77f7-9a8b-446b-a001-08036ae9f61e"
      },
      "execution_count": null,
      "outputs": [
        {
          "output_type": "stream",
          "name": "stdout",
          "text": [
            "Я изучаю питон\n"
          ]
        }
      ]
    },
    {
      "cell_type": "markdown",
      "source": [
        "# Шаг 4 - Переменная"
      ],
      "metadata": {
        "id": "tl0vM7uG8Unx"
      }
    },
    {
      "cell_type": "markdown",
      "source": [
        "Теперь поговорим про типы переменных. Рассмотрим два самых распространенных из них:\n",
        "\n",
        "**str** - это текстовый тип данных (в программировании текстовые данные зовутся строками - string). Все наши переменные в прошлых заданиях были типа str. Особенность такого типа - это запись в кавычках.\n",
        "\n",
        "**int** - это целочисленные значения. Они записываются с помощью цифр без кавычек.\n",
        "\n",
        "Примеры:"
      ],
      "metadata": {
        "id": "oOaDZg8n8YIs"
      }
    },
    {
      "cell_type": "code",
      "source": [
        "product = \"молоко\"\n",
        "\n",
        "price = 120\n",
        "\n",
        "print(product, price, price)"
      ],
      "metadata": {
        "id": "950LmGX-8dVs",
        "colab": {
          "base_uri": "https://localhost:8080/"
        },
        "outputId": "c2a80622-6c86-4fba-eada-e390a1c15bec"
      },
      "execution_count": null,
      "outputs": [
        {
          "output_type": "stream",
          "name": "stdout",
          "text": [
            "молоко 120 120\n"
          ]
        }
      ]
    },
    {
      "cell_type": "markdown",
      "source": [
        "При печати мы не видим разницы, но различия появляются, когда мы хотим выполнить арифметическую операцию"
      ],
      "metadata": {
        "id": "DuUZB7UPYcZr"
      }
    },
    {
      "cell_type": "code",
      "source": [
        "print(2 + price) # тут все ок"
      ],
      "metadata": {
        "id": "FoULworZYbn8",
        "colab": {
          "base_uri": "https://localhost:8080/"
        },
        "outputId": "5e21882e-9022-4e54-e1da-381186b98eec"
      },
      "execution_count": null,
      "outputs": [
        {
          "output_type": "stream",
          "name": "stdout",
          "text": [
            "122\n"
          ]
        }
      ]
    },
    {
      "cell_type": "code",
      "source": [
        "print(100 + product) # а здесь ошибка - нельзя сложить str и int"
      ],
      "metadata": {
        "id": "VYOof_v-YpRo",
        "colab": {
          "base_uri": "https://localhost:8080/",
          "height": 169
        },
        "outputId": "8fcc9a0a-bfab-427e-8cfa-5087b51d73e4"
      },
      "execution_count": null,
      "outputs": [
        {
          "output_type": "error",
          "ename": "TypeError",
          "evalue": "ignored",
          "traceback": [
            "\u001b[0;31m---------------------------------------------------------------------------\u001b[0m",
            "\u001b[0;31mTypeError\u001b[0m                                 Traceback (most recent call last)",
            "\u001b[0;32m<ipython-input-12-417ef579b7a2>\u001b[0m in \u001b[0;36m<module>\u001b[0;34m\u001b[0m\n\u001b[0;32m----> 1\u001b[0;31m \u001b[0mprint\u001b[0m\u001b[0;34m(\u001b[0m\u001b[0;36m100\u001b[0m \u001b[0;34m+\u001b[0m \u001b[0mproduct\u001b[0m\u001b[0;34m)\u001b[0m \u001b[0;31m# а здесь ошибка - нельзя сложить str и int\u001b[0m\u001b[0;34m\u001b[0m\u001b[0;34m\u001b[0m\u001b[0m\n\u001b[0m",
            "\u001b[0;31mTypeError\u001b[0m: unsupported operand type(s) for +: 'int' and 'str'"
          ]
        }
      ]
    },
    {
      "cell_type": "code",
      "source": [
        "print(100 + '100')"
      ],
      "metadata": {
        "colab": {
          "base_uri": "https://localhost:8080/",
          "height": 169
        },
        "id": "eIFFNDuFri8k",
        "outputId": "e3e183af-c9b3-401b-e733-87936b1b7fa9"
      },
      "execution_count": null,
      "outputs": [
        {
          "output_type": "error",
          "ename": "TypeError",
          "evalue": "ignored",
          "traceback": [
            "\u001b[0;31m---------------------------------------------------------------------------\u001b[0m",
            "\u001b[0;31mTypeError\u001b[0m                                 Traceback (most recent call last)",
            "\u001b[0;32m<ipython-input-13-746e38859982>\u001b[0m in \u001b[0;36m<module>\u001b[0;34m\u001b[0m\n\u001b[0;32m----> 1\u001b[0;31m \u001b[0mprint\u001b[0m\u001b[0;34m(\u001b[0m\u001b[0;36m100\u001b[0m \u001b[0;34m+\u001b[0m \u001b[0;34m'100'\u001b[0m\u001b[0;34m)\u001b[0m\u001b[0;34m\u001b[0m\u001b[0;34m\u001b[0m\u001b[0m\n\u001b[0m",
            "\u001b[0;31mTypeError\u001b[0m: unsupported operand type(s) for +: 'int' and 'str'"
          ]
        }
      ]
    },
    {
      "cell_type": "markdown",
      "source": [
        "****Задание****\n",
        "\n",
        "Создайте переменные name, age, hobby, присвоив им любые значения, но при условии, что name и hobby - это текстовые переменные (str), а age - число (int). Затем выведите эти значения на экран."
      ],
      "metadata": {
        "id": "hNvy_EAn8fqb"
      }
    },
    {
      "cell_type": "code",
      "source": [
        "# Исходный код\n",
        "name = \"Гоша\"\n",
        "age = 26\n",
        "hobby = \"Я люблю преподавать\"\n",
        "\n",
        "print(name)\n",
        "print(age)\n",
        "print(hobby)"
      ],
      "metadata": {
        "id": "AVIDJ7t28p2i",
        "colab": {
          "base_uri": "https://localhost:8080/"
        },
        "outputId": "09d23b70-da78-47ba-8d83-d759acc09c56"
      },
      "execution_count": null,
      "outputs": [
        {
          "output_type": "stream",
          "name": "stdout",
          "text": [
            "Гоша\n",
            "26\n",
            "Я люблю преподавать\n"
          ]
        }
      ]
    },
    {
      "cell_type": "code",
      "source": [
        "print(age + 100)"
      ],
      "metadata": {
        "colab": {
          "base_uri": "https://localhost:8080/"
        },
        "id": "fwn8Tbgpr03P",
        "outputId": "a441f527-7434-4c3e-efe9-344877ab2684"
      },
      "execution_count": null,
      "outputs": [
        {
          "output_type": "stream",
          "name": "stdout",
          "text": [
            "126\n"
          ]
        }
      ]
    },
    {
      "cell_type": "markdown",
      "source": [
        "# Шаг 5 - Input"
      ],
      "metadata": {
        "id": "fpz57mml-JHc"
      }
    },
    {
      "cell_type": "markdown",
      "source": [
        "Мы уже изучили функцию print, которая выводит значения на экран (показывает данные пользователю). \n",
        "\n",
        "Теперь рассмотрим input - функцию, которая принимает данные от пользователя.\n",
        "\n",
        "Использование:\n",
        "1. при запуске вводим текст в окошко\n",
        "2. нажимаем **Enter**\n",
        "\n",
        "Пример использования:"
      ],
      "metadata": {
        "id": "2TLVlpdX-Pyu"
      }
    },
    {
      "cell_type": "code",
      "source": [
        "name = input() # в переменную name будет записано значение \n",
        "print(name)"
      ],
      "metadata": {
        "id": "5h_DQFcs-RTF",
        "colab": {
          "base_uri": "https://localhost:8080/"
        },
        "outputId": "aca34a3b-c1e4-497a-e89e-13e8c1dd5ed3"
      },
      "execution_count": null,
      "outputs": [
        {
          "output_type": "stream",
          "name": "stdout",
          "text": [
            "Гоша\n",
            "Гоша\n"
          ]
        }
      ]
    },
    {
      "cell_type": "code",
      "source": [
        "hello = input()"
      ],
      "metadata": {
        "colab": {
          "base_uri": "https://localhost:8080/"
        },
        "id": "J5ir6aeNskgx",
        "outputId": "a80de0ac-f9a6-4219-96ff-33c4c2b5bd0d"
      },
      "execution_count": null,
      "outputs": [
        {
          "name": "stdout",
          "output_type": "stream",
          "text": [
            "ПРивет\n"
          ]
        }
      ]
    },
    {
      "cell_type": "code",
      "source": [
        "print(hello)"
      ],
      "metadata": {
        "colab": {
          "base_uri": "https://localhost:8080/"
        },
        "id": "-ifWEmftso8d",
        "outputId": "1a601444-0c9d-4251-ae55-eac00c925a30"
      },
      "execution_count": null,
      "outputs": [
        {
          "output_type": "stream",
          "name": "stdout",
          "text": [
            "ПРивет\n"
          ]
        }
      ]
    },
    {
      "cell_type": "markdown",
      "source": [
        "**Задание**\n",
        "\n",
        "Запустить программу, которая считывает значение имени пользователя с клавиатуры, а потом выводит на экран две строки. \n",
        "\n",
        "Пример вывода:\n",
        "\n",
        "Привет\n",
        "\n",
        "Олег"
      ],
      "metadata": {
        "id": "YGrv2SS4-TcT"
      }
    },
    {
      "cell_type": "code",
      "source": [
        "# Исходный код\n",
        "name = input()\n",
        "print(\"Привет\")\n",
        "print(name)"
      ],
      "metadata": {
        "id": "xovtMDFL-VOV",
        "colab": {
          "base_uri": "https://localhost:8080/"
        },
        "outputId": "ec9dbd4c-a6ac-4083-f1c5-5910424b7206"
      },
      "execution_count": null,
      "outputs": [
        {
          "output_type": "stream",
          "name": "stdout",
          "text": [
            "Саша\n",
            "Привет\n",
            "Саша\n"
          ]
        }
      ]
    },
    {
      "cell_type": "markdown",
      "source": [
        "# Шаг 6 - Input"
      ],
      "metadata": {
        "id": "5Q1sfMYd-qaW"
      }
    },
    {
      "cell_type": "markdown",
      "source": [
        "Функция input по умолчанию все значения отдает в формате str.\n",
        "\n",
        "Как это работает."
      ],
      "metadata": {
        "id": "uh93Db2y-sFR"
      }
    },
    {
      "cell_type": "code",
      "source": [
        "price = input() \n",
        "# если ввести с клавиатуры, например, 3,\n",
        "# то в переменной price будет текстовое значение \"3\""
      ],
      "metadata": {
        "id": "RqxHKjig-u2i",
        "colab": {
          "base_uri": "https://localhost:8080/"
        },
        "outputId": "04f03ec3-df19-4329-ce55-3f8dc6992c97"
      },
      "execution_count": null,
      "outputs": [
        {
          "name": "stdout",
          "output_type": "stream",
          "text": [
            "120\n"
          ]
        }
      ]
    },
    {
      "cell_type": "code",
      "source": [
        "print(3 + price)"
      ],
      "metadata": {
        "colab": {
          "base_uri": "https://localhost:8080/"
        },
        "id": "Spy4Rsi8tqra",
        "outputId": "bca354c1-ac69-4047-9a9e-10a2552ed7a9"
      },
      "execution_count": null,
      "outputs": [
        {
          "output_type": "stream",
          "name": "stdout",
          "text": [
            "123\n"
          ]
        }
      ]
    },
    {
      "cell_type": "markdown",
      "source": [
        "Для арифметических действий такое значение мы уже использовать не сможем, поэтому надо изменить формат принимаемых данных. Для этого используется:"
      ],
      "metadata": {
        "id": "1bXTEMfZ-vKA"
      }
    },
    {
      "cell_type": "code",
      "source": [
        "price = int(input()) # т.е. мы сразу переводим данные в формат числа."
      ],
      "metadata": {
        "id": "xqw2b05d-v2Q",
        "colab": {
          "base_uri": "https://localhost:8080/",
          "height": 186
        },
        "outputId": "1f136e26-1814-438d-f174-e5f68740a624"
      },
      "execution_count": null,
      "outputs": [
        {
          "name": "stdout",
          "output_type": "stream",
          "text": [
            "    124.\n"
          ]
        },
        {
          "output_type": "error",
          "ename": "ValueError",
          "evalue": "ignored",
          "traceback": [
            "\u001b[0;31m---------------------------------------------------------------------------\u001b[0m",
            "\u001b[0;31mValueError\u001b[0m                                Traceback (most recent call last)",
            "\u001b[0;32m<ipython-input-28-10e6e5d0e49f>\u001b[0m in \u001b[0;36m<module>\u001b[0;34m\u001b[0m\n\u001b[0;32m----> 1\u001b[0;31m \u001b[0mprice\u001b[0m \u001b[0;34m=\u001b[0m \u001b[0mint\u001b[0m\u001b[0;34m(\u001b[0m\u001b[0minput\u001b[0m\u001b[0;34m(\u001b[0m\u001b[0;34m)\u001b[0m\u001b[0;34m)\u001b[0m \u001b[0;31m# т.е. мы сразу переводим данные в формат числа.\u001b[0m\u001b[0;34m\u001b[0m\u001b[0;34m\u001b[0m\u001b[0m\n\u001b[0m",
            "\u001b[0;31mValueError\u001b[0m: invalid literal for int() with base 10: '    124.'"
          ]
        }
      ]
    },
    {
      "cell_type": "code",
      "source": [
        "print(price + 3)"
      ],
      "metadata": {
        "colab": {
          "base_uri": "https://localhost:8080/"
        },
        "id": "P0HNflFNt620",
        "outputId": "fc6ff4a9-1139-4291-b1d2-4a91fcc838d4"
      },
      "execution_count": null,
      "outputs": [
        {
          "output_type": "stream",
          "name": "stdout",
          "text": [
            "15\n"
          ]
        }
      ]
    },
    {
      "cell_type": "code",
      "source": [
        "x = int(input())\n",
        "y = int(input())\n",
        "\n",
        "print(x + y)"
      ],
      "metadata": {
        "colab": {
          "base_uri": "https://localhost:8080/"
        },
        "id": "cs-TyfH4uGjI",
        "outputId": "857715e9-e551-4f4d-80ab-5b25b5f5ab38"
      },
      "execution_count": null,
      "outputs": [
        {
          "output_type": "stream",
          "name": "stdout",
          "text": [
            "5\n",
            "7\n",
            "12\n"
          ]
        }
      ]
    },
    {
      "cell_type": "markdown",
      "source": [
        "**Задание**\n",
        "\n",
        "Получите у пользователя два значения: наименование продукта **product** (текст str) и количество **amount** (число int). \n",
        "\n",
        "Ячейка должна выполнниться без ошибок"
      ],
      "metadata": {
        "id": "1wLt-s47-wRu"
      }
    },
    {
      "cell_type": "code",
      "source": [
        "product = input()\n",
        "amount = int(input())\n",
        "\n",
        "print(product)\n",
        "print(amount)\n",
        "print(amount + 100)"
      ],
      "metadata": {
        "id": "MklZypqC-wlK",
        "colab": {
          "base_uri": "https://localhost:8080/"
        },
        "outputId": "5ecf3d26-02ab-43e1-854d-0a3e7986bdcd"
      },
      "execution_count": null,
      "outputs": [
        {
          "output_type": "stream",
          "name": "stdout",
          "text": [
            "гречка\n",
            "200\n",
            "гречка\n",
            "200\n",
            "300\n"
          ]
        }
      ]
    },
    {
      "cell_type": "markdown",
      "source": [
        "# Шаг 7 - Условие"
      ],
      "metadata": {
        "id": "Qm8GyyIU-9VK"
      }
    },
    {
      "cell_type": "markdown",
      "source": [
        "Оператор if (его иногда называют оператором ветвления или условным оператором) — основной инструмент выбора в Python. Он выбирает, какое действие следует выполнить, в зависимости от результата проверки условия. \n",
        "\n",
        "Операторы для сравнения:"
      ],
      "metadata": {
        "id": "AetLuUb1_C5n"
      }
    },
    {
      "cell_type": "markdown",
      "source": [
        "![02aa09d4603d90a81a8d541945d021af.png](data:image/png;base64,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)"
      ],
      "metadata": {
        "id": "SmTiPwUnAdbD"
      }
    },
    {
      "cell_type": "code",
      "source": [
        "a == b # равно\n",
        "\n",
        "a != b # не равно \n",
        "\n",
        "a > b # больше\n",
        "\n",
        "a < b # меньше\n",
        "\n",
        "a >= b # больше или равно\n",
        "\n",
        "a <= b # меньше или равно"
      ],
      "metadata": {
        "id": "507odEtw_FFY"
      },
      "execution_count": null,
      "outputs": []
    },
    {
      "cell_type": "markdown",
      "source": [
        "Пример, как использовать условия с числами:"
      ],
      "metadata": {
        "id": "TmHr62cW_XLh"
      }
    },
    {
      "cell_type": "code",
      "source": [
        "a = 100\n",
        "b = 20\n",
        "if a > b:\n",
        "    print(\"a больше b\") # этот текст на экране появится только если выполнится условие"
      ],
      "metadata": {
        "id": "pjfumBKs_YB_",
        "colab": {
          "base_uri": "https://localhost:8080/"
        },
        "outputId": "db4acb7a-bb8c-4a2a-bf52-2d16eb195479"
      },
      "execution_count": null,
      "outputs": [
        {
          "output_type": "stream",
          "name": "stdout",
          "text": [
            "a больше b\n"
          ]
        }
      ]
    },
    {
      "cell_type": "markdown",
      "source": [
        "Еще пример, как условия могут применяться с текстовыми переменными:"
      ],
      "metadata": {
        "id": "uI6WlG3X_b4r"
      }
    },
    {
      "cell_type": "code",
      "source": [],
      "metadata": {
        "id": "SUxRNT9vdICr"
      },
      "execution_count": null,
      "outputs": []
    },
    {
      "cell_type": "code",
      "source": [
        "name1 = \"Маша\"\n",
        "name2 = \"маша\"\n",
        "if name1 == name2:\n",
        "    print(\"Имена одинаковые\") # этот текст на экране появится только если выполнится условие\n",
        "else:\n",
        "    print('Имена не совпадают :(')"
      ],
      "metadata": {
        "id": "CwSWWTIk_tqY",
        "colab": {
          "base_uri": "https://localhost:8080/"
        },
        "outputId": "d0e3c7a7-f082-408e-d0d2-b81b834cc274"
      },
      "execution_count": null,
      "outputs": [
        {
          "output_type": "stream",
          "name": "stdout",
          "text": [
            "Имена не совпадают :(\n"
          ]
        }
      ]
    },
    {
      "cell_type": "markdown",
      "source": [
        "**Задание**\n",
        "\n",
        "Напишите программу, которая:\n",
        "\n",
        "- получает от пользователя его возраст (input) и преобразует в число (int)\n",
        "- записывает значение в переменную age\n",
        "- проводит сравнение, есть ли пользователю 18 лет (age больше или равно 18)\n",
        "- если да: выводит на экран сообщение “Вам доступна регистрация на сайте”\n",
        "- иначе: “Вы можете находиться на сайте как гость\""
      ],
      "metadata": {
        "id": "M3z3qMcE_o9J"
      }
    },
    {
      "cell_type": "code",
      "source": [
        "#Исходный код \n",
        "age = int(input())\n",
        "if age >= 18:\n",
        "  print(\"Вам доступна регистрация на сайте\")\n",
        "else:\n",
        "  print(\"Вы можете находиться на сайте как гость\")"
      ],
      "metadata": {
        "id": "UdZB0m4E_ybk",
        "colab": {
          "base_uri": "https://localhost:8080/"
        },
        "outputId": "1afc0bd5-a03c-4c54-8bab-f362eb3d0acb"
      },
      "execution_count": null,
      "outputs": [
        {
          "output_type": "stream",
          "name": "stdout",
          "text": [
            "10\n",
            "Вы можете находиться на сайте как гость\n"
          ]
        }
      ]
    },
    {
      "cell_type": "markdown",
      "source": [
        "# Применяем навыки"
      ],
      "metadata": {
        "id": "7mmvdC2QBxjz"
      }
    },
    {
      "cell_type": "markdown",
      "source": [
        "Программа принимает три значения по очереди:\n",
        "\n",
        "first - это первое число\n",
        "\n",
        "symbol - это арифметический знак (это может быть + - * /)\n",
        "\n",
        "second - это второе число"
      ],
      "metadata": {
        "id": "cOMRyd16Cpfd"
      }
    },
    {
      "cell_type": "code",
      "source": [
        "first = int(input('Введите первый аргумент: ')) #принимает первое число\n",
        "symbol = input('Введите фрифметический знак: ') #принимает арифметический знак\n",
        "second = int(input('Введите второй аргумент: ')) #принимает второе число\n",
        "\n",
        "if symbol == \"+\": #проверяется условие: равняется ли наш арифметический знак плюсом\n",
        "  result = first + second #если условие выполняется, первое и второе число складываем\n",
        "if symbol == \"-\": #проверяется условие: равняется ли наш арифметический знак минусом\n",
        "  result = first - second #если условие выполняется, из первого числа вычитаем второе\n",
        "if symbol == \"*\": #проверяется условие: равняется ли наш арифметический знак знаком умножения\n",
        "  result = first * second #если условие выполняется, первое и второе число умножаются\n",
        "if symbol == \"/\": #проверяется условие: равняется ли наш арифметический знак знаком деления\n",
        "  result = first / second #если условие выполняется, первое число делится на второе\n",
        "\n",
        "\n",
        "print(first, symbol, second, \"=\", result) #выводим на экран первое число, затем арифметический знак, затем второе число, затем знак равенства и результат вычислений"
      ],
      "metadata": {
        "id": "nJDtnyvkB5l7",
        "colab": {
          "base_uri": "https://localhost:8080/",
          "height": 293
        },
        "outputId": "960c3bcb-c2ac-47e2-91da-a33fd945b110"
      },
      "execution_count": null,
      "outputs": [
        {
          "name": "stdout",
          "output_type": "stream",
          "text": [
            "Введите первый аргумент: 10\n",
            "Введите фрифметический знак: /\n",
            "Введите второй аргумент: 0\n"
          ]
        },
        {
          "output_type": "error",
          "ename": "ZeroDivisionError",
          "evalue": "ignored",
          "traceback": [
            "\u001b[0;31m---------------------------------------------------------------------------\u001b[0m",
            "\u001b[0;31mZeroDivisionError\u001b[0m                         Traceback (most recent call last)",
            "\u001b[0;32m<ipython-input-48-80670a06395a>\u001b[0m in \u001b[0;36m<module>\u001b[0;34m\u001b[0m\n\u001b[1;32m     10\u001b[0m   \u001b[0mresult\u001b[0m \u001b[0;34m=\u001b[0m \u001b[0mfirst\u001b[0m \u001b[0;34m*\u001b[0m \u001b[0msecond\u001b[0m \u001b[0;31m#если условие выполняется, первое и второе число умножаются\u001b[0m\u001b[0;34m\u001b[0m\u001b[0;34m\u001b[0m\u001b[0m\n\u001b[1;32m     11\u001b[0m \u001b[0;32mif\u001b[0m \u001b[0msymbol\u001b[0m \u001b[0;34m==\u001b[0m \u001b[0;34m\"/\"\u001b[0m\u001b[0;34m:\u001b[0m \u001b[0;31m#проверяется условие: равняется ли наш арифметический знак знаком деления\u001b[0m\u001b[0;34m\u001b[0m\u001b[0;34m\u001b[0m\u001b[0m\n\u001b[0;32m---> 12\u001b[0;31m   \u001b[0mresult\u001b[0m \u001b[0;34m=\u001b[0m \u001b[0mfirst\u001b[0m \u001b[0;34m/\u001b[0m \u001b[0msecond\u001b[0m \u001b[0;31m#если условие выполняется, первое число делится на второе\u001b[0m\u001b[0;34m\u001b[0m\u001b[0;34m\u001b[0m\u001b[0m\n\u001b[0m\u001b[1;32m     13\u001b[0m \u001b[0;34m\u001b[0m\u001b[0m\n\u001b[1;32m     14\u001b[0m \u001b[0;34m\u001b[0m\u001b[0m\n",
            "\u001b[0;31mZeroDivisionError\u001b[0m: division by zero"
          ]
        }
      ]
    },
    {
      "cell_type": "markdown",
      "source": [
        "Запустите эту программу и предложите ей значения: 12 / 0\n",
        "\n",
        "**Задание (на самостоятельную проработку)**\n",
        "\n",
        "Допишите условие программы так, чтоб при делении на 0 выводилось сообщение \"Делить на 0 нельзя\""
      ],
      "metadata": {
        "id": "-1ubDDJkDO6I"
      }
    },
    {
      "cell_type": "code",
      "source": [],
      "metadata": {
        "id": "sRSJ6iHTLRST"
      },
      "execution_count": null,
      "outputs": []
    },
    {
      "cell_type": "markdown",
      "source": [
        "**Задание* (на самостоятельную проработку)**\n",
        "\n",
        "Добавьте операцию возведения в степень\n",
        "\n",
        "Например, 2 в 4 степени будет 16 "
      ],
      "metadata": {
        "id": "RCksxqA-eSA1"
      }
    }
  ]
}